{
 "cells": [
  {
   "cell_type": "code",
   "execution_count": 1,
   "metadata": {},
   "outputs": [
    {
     "name": "stdout",
     "output_type": "stream",
     "text": [
      "Defaulting to user installation because normal site-packages is not writeable\n",
      "Collecting selenium\n",
      "  Using cached selenium-4.25.0-py3-none-any.whl (9.7 MB)\n",
      "Requirement already satisfied: urllib3[socks]<3,>=1.26 in c:\\users\\abhishekh\\appdata\\roaming\\python\\python39\\site-packages (from selenium) (2.2.1)\n",
      "Requirement already satisfied: certifi>=2021.10.8 in c:\\programdata\\anaconda3\\lib\\site-packages (from selenium) (2021.10.8)\n",
      "Collecting trio~=0.17\n",
      "  Using cached trio-0.26.2-py3-none-any.whl (475 kB)\n",
      "Requirement already satisfied: typing_extensions~=4.9 in c:\\users\\abhishekh\\appdata\\roaming\\python\\python39\\site-packages (from selenium) (4.11.0)\n",
      "Collecting websocket-client~=1.8\n",
      "  Using cached websocket_client-1.8.0-py3-none-any.whl (58 kB)\n",
      "Collecting trio-websocket~=0.9\n",
      "  Using cached trio_websocket-0.11.1-py3-none-any.whl (17 kB)\n",
      "Requirement already satisfied: sortedcontainers in c:\\programdata\\anaconda3\\lib\\site-packages (from trio~=0.17->selenium) (2.4.0)\n",
      "Requirement already satisfied: idna in c:\\users\\abhishekh\\appdata\\roaming\\python\\python39\\site-packages (from trio~=0.17->selenium) (2.8)\n",
      "Requirement already satisfied: cffi>=1.14 in c:\\programdata\\anaconda3\\lib\\site-packages (from trio~=0.17->selenium) (1.15.0)\n",
      "Collecting outcome\n",
      "  Using cached outcome-1.3.0.post0-py2.py3-none-any.whl (10 kB)\n",
      "Collecting sniffio>=1.3.0\n",
      "  Using cached sniffio-1.3.1-py3-none-any.whl (10 kB)\n",
      "Collecting exceptiongroup\n",
      "  Downloading exceptiongroup-1.2.2-py3-none-any.whl (16 kB)\n",
      "Collecting attrs>=23.2.0\n",
      "  Using cached attrs-24.2.0-py3-none-any.whl (63 kB)\n",
      "Requirement already satisfied: pycparser in c:\\programdata\\anaconda3\\lib\\site-packages (from cffi>=1.14->trio~=0.17->selenium) (2.21)\n",
      "Collecting wsproto>=0.14\n",
      "  Using cached wsproto-1.2.0-py3-none-any.whl (24 kB)\n",
      "Requirement already satisfied: pysocks!=1.5.7,<2.0,>=1.5.6 in c:\\programdata\\anaconda3\\lib\\site-packages (from urllib3[socks]<3,>=1.26->selenium) (1.7.1)\n",
      "Requirement already satisfied: h11<1,>=0.9.0 in c:\\users\\abhishekh\\appdata\\roaming\\python\\python39\\site-packages (from wsproto>=0.14->trio-websocket~=0.9->selenium) (0.14.0)\n",
      "Installing collected packages: attrs, sniffio, outcome, exceptiongroup, wsproto, trio, websocket-client, trio-websocket, selenium\n",
      "Successfully installed attrs-24.2.0 exceptiongroup-1.2.2 outcome-1.3.0.post0 selenium-4.25.0 sniffio-1.3.1 trio-0.26.2 trio-websocket-0.11.1 websocket-client-1.8.0 wsproto-1.2.0\n",
      "Note: you may need to restart the kernel to use updated packages.\n"
     ]
    },
    {
     "name": "stderr",
     "output_type": "stream",
     "text": [
      "  WARNING: The script wsdump.exe is installed in 'C:\\Users\\Abhishekh\\AppData\\Roaming\\Python\\Python39\\Scripts' which is not on PATH.\n",
      "  Consider adding this directory to PATH or, if you prefer to suppress this warning, use --no-warn-script-location.\n",
      "ERROR: pip's dependency resolver does not currently take into account all the packages that are installed. This behaviour is the source of the following dependency conflicts.\n",
      "pandas-profiling 3.3.0 requires pandas!=1.4.0,<1.5,>1.1, but you have pandas 2.2.0 which is incompatible.\n",
      "pandas-profiling 3.3.0 requires pydantic<1.10,>=1.8.1, but you have pydantic 2.7.1 which is incompatible.\n",
      "pandas-profiling 3.3.0 requires requests<2.29,>=2.24.0, but you have requests 2.31.0 which is incompatible.\n",
      "jupyter-server 1.13.5 requires pywinpty<2; os_name == \"nt\", but you have pywinpty 2.0.2 which is incompatible.\n"
     ]
    }
   ],
   "source": [
    "pip install selenium\n"
   ]
  },
  {
   "cell_type": "code",
   "execution_count": 5,
   "metadata": {},
   "outputs": [
    {
     "ename": "TypeError",
     "evalue": "__init__() got an unexpected keyword argument 'executable_path'",
     "output_type": "error",
     "traceback": [
      "\u001b[1;31m---------------------------------------------------------------------------\u001b[0m",
      "\u001b[1;31mTypeError\u001b[0m                                 Traceback (most recent call last)",
      "Cell \u001b[1;32mIn [5], line 8\u001b[0m\n\u001b[0;32m      6\u001b[0m \u001b[38;5;66;03m# Setup WebDriver (using Chrome in this case)\u001b[39;00m\n\u001b[0;32m      7\u001b[0m chrome_driver_path \u001b[38;5;241m=\u001b[39m \u001b[38;5;124m'\u001b[39m\u001b[38;5;124mC:/chromedriver-win64\u001b[39m\u001b[38;5;124m'\u001b[39m  \u001b[38;5;66;03m# Update this to the path of your ChromeDriver\u001b[39;00m\n\u001b[1;32m----> 8\u001b[0m driver \u001b[38;5;241m=\u001b[39m \u001b[43mwebdriver\u001b[49m\u001b[38;5;241;43m.\u001b[39;49m\u001b[43mChrome\u001b[49m\u001b[43m(\u001b[49m\u001b[43mexecutable_path\u001b[49m\u001b[38;5;241;43m=\u001b[39;49m\u001b[43mchrome_driver_path\u001b[49m\u001b[43m)\u001b[49m\n\u001b[0;32m     10\u001b[0m \u001b[38;5;66;03m# Navigate to the website\u001b[39;00m\n\u001b[0;32m     11\u001b[0m website_url \u001b[38;5;241m=\u001b[39m \u001b[38;5;124m'\u001b[39m\u001b[38;5;124mhttps://qrco.de/bfPE9M\u001b[39m\u001b[38;5;124m'\u001b[39m  \u001b[38;5;66;03m# Replace with the actual website URL\u001b[39;00m\n",
      "\u001b[1;31mTypeError\u001b[0m: __init__() got an unexpected keyword argument 'executable_path'"
     ]
    }
   ],
   "source": [
    "from selenium import webdriver\n",
    "import time\n",
    "import urllib.request\n",
    "import os\n",
    "\n",
    "# Setup WebDriver (using Chrome in this case)\n",
    "chrome_driver_path = 'C:/chromedriver-win64'  # Update this to the path of your ChromeDriver\n",
    "driver = webdriver.Chrome(executable_path=chrome_driver_path)\n",
    "\n",
    "# Navigate to the website\n",
    "website_url = 'https://qrco.de/bfPE9M'  # Replace with the actual website URL\n",
    "driver.get(website_url)\n",
    "\n",
    "# Allow time for the images to load\n",
    "time.sleep(5)\n",
    "\n",
    "# Locate all images on the page\n",
    "images = driver.find_elements_by_tag_name('img')\n",
    "\n",
    "# Create directory to save the images\n",
    "download_dir = 'downloaded_images'\n",
    "os.makedirs(download_dir, exist_ok=True)\n",
    "\n",
    "# Loop through all images\n",
    "for idx, image in enumerate(images):\n",
    "    # Get the image URL (source attribute)\n",
    "    img_url = image.get_attribute('src')\n",
    "    \n",
    "    # Open the image in a new tab (Optional)\n",
    "    driver.execute_script(\"window.open(arguments[0]);\", img_url)\n",
    "    \n",
    "    # Download the image\n",
    "    try:\n",
    "        img_path = os.path.join(download_dir, f'image_{idx}.jpg')  # You can adjust the extension based on the image type\n",
    "        urllib.request.urlretrieve(img_url, img_path)\n",
    "        print(f'Downloaded {img_path}')\n",
    "    except Exception as e:\n",
    "        print(f'Failed to download image {idx}: {e}')\n",
    "    \n",
    "    # Close the new tab\n",
    "    driver.switch_to.window(driver.window_handles[-1])\n",
    "    driver.close()\n",
    "    driver.switch_to.window(driver.window_handles[0])\n",
    "\n",
    "# Close the browser once done\n",
    "driver.quit()\n"
   ]
  }
 ],
 "metadata": {
  "kernelspec": {
   "display_name": "Python 3",
   "language": "python",
   "name": "python3"
  },
  "language_info": {
   "codemirror_mode": {
    "name": "ipython",
    "version": 3
   },
   "file_extension": ".py",
   "mimetype": "text/x-python",
   "name": "python",
   "nbconvert_exporter": "python",
   "pygments_lexer": "ipython3",
   "version": "3.9.12"
  }
 },
 "nbformat": 4,
 "nbformat_minor": 2
}
